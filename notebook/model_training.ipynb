{
 "cells": [
  {
   "attachments": {},
   "cell_type": "markdown",
   "id": "92e48866",
   "metadata": {},
   "source": [
    "## Model Training"
   ]
  },
  {
   "cell_type": "markdown",
   "id": "25791a74",
   "metadata": {},
   "source": [
    "#### 1.1 Import Data and Required Packages\n",
    "##### Importing Pandas, Numpy, Matplotlib, Seaborn and Warings Library."
   ]
  },
  {
   "cell_type": "code",
   "execution_count": 38,
   "id": "b080dfb2",
   "metadata": {},
   "outputs": [],
   "source": [
    "# Basic Import\n",
    "import numpy as np\n",
    "import pandas as pd\n",
    "import matplotlib.pyplot as plt \n",
    "import seaborn as sns\n",
    "# Modelling\n",
    "from sklearn.metrics import mean_squared_error, r2_score\n",
    "from sklearn.neighbors import KNeighborsRegressor\n",
    "from sklearn.tree import DecisionTreeRegressor\n",
    "from sklearn.ensemble import RandomForestRegressor,AdaBoostRegressor\n",
    "from sklearn.svm import SVR\n",
    "from sklearn.linear_model import LinearRegression, Ridge,Lasso\n",
    "from sklearn.metrics import r2_score, mean_absolute_error, mean_squared_error\n",
    "from sklearn.model_selection import RandomizedSearchCV\n",
    "from catboost import CatBoostRegressor\n",
    "from xgboost import XGBRegressor\n",
    "import warnings"
   ]
  },
  {
   "cell_type": "markdown",
   "id": "e45079ad",
   "metadata": {},
   "source": [
    "#### Import the CSV Data as Pandas DataFrame"
   ]
  },
  {
   "cell_type": "code",
   "execution_count": 39,
   "id": "e11c6255",
   "metadata": {},
   "outputs": [],
   "source": [
    "df = pd.read_csv('data/onemin-Ground-2017-01-01.csv')"
   ]
  },
  {
   "cell_type": "code",
   "execution_count": 40,
   "id": "6da42ca8",
   "metadata": {},
   "outputs": [
    {
     "name": "stderr",
     "output_type": "stream",
     "text": [
      "C:\\Users\\73773\\AppData\\Local\\Temp\\ipykernel_32356\\3176975456.py:28: SettingWithCopyWarning: \n",
      "A value is trying to be set on a copy of a slice from a DataFrame\n",
      "\n",
      "See the caveats in the documentation: https://pandas.pydata.org/pandas-docs/stable/user_guide/indexing.html#returning-a-view-versus-a-copy\n",
      "  df_selected['WindSpeedAve_ms'].fillna(method = 'bfill', inplace=True)\n",
      "C:\\Users\\73773\\AppData\\Local\\Temp\\ipykernel_32356\\3176975456.py:35: SettingWithCopyWarning: \n",
      "A value is trying to be set on a copy of a slice from a DataFrame.\n",
      "Try using .loc[row_indexer,col_indexer] = value instead\n",
      "\n",
      "See the caveats in the documentation: https://pandas.pydata.org/pandas-docs/stable/user_guide/indexing.html#returning-a-view-versus-a-copy\n",
      "  df_selected['RTD_C_Avg_Mean'] = df_selected[rtd_columns].mean(axis=1)\n"
     ]
    }
   ],
   "source": [
    "# Assuming your dataframe is called 'df'\n",
    "\n",
    "# List of features we want to keep\n",
    "features = [\n",
    "    'TIMESTAMP',\n",
    "    'AmbTemp_C_Avg',\n",
    "    'WindSpeedAve_ms',\n",
    "    'WindDirAve_deg',\n",
    "    'RTD_C_Avg_1',\n",
    "    'RTD_C_Avg_2',\n",
    "    'RTD_C_Avg_3',\n",
    "    'RTD_C_Avg_4',\n",
    "    'RTD_C_Avg_5',\n",
    "    'RTD_C_Avg_6',\n",
    "    'RTD_C_Avg_7',\n",
    "    'RTD_C_Avg_8',\n",
    "    'RTD_C_Avg_9',\n",
    "    'RTD_C_Avg_10'\n",
    "]\n",
    "\n",
    "# Target variable\n",
    "target = 'PwrMtrP_kW_Avg'\n",
    "\n",
    "# Create a new dataframe with only the features and target variable we want\n",
    "df_selected = df[features + [target]]\n",
    "\n",
    "# Using mean\n",
    "df_selected['WindSpeedAve_ms'].fillna(df_selected['WindSpeedAve_ms'].mean(), inplace=True)\n",
    "\n",
    "# List of RTD columns\n",
    "rtd_columns = ['RTD_C_Avg_1', 'RTD_C_Avg_2', 'RTD_C_Avg_3', 'RTD_C_Avg_4', 'RTD_C_Avg_5', \n",
    "               'RTD_C_Avg_6', 'RTD_C_Avg_7', 'RTD_C_Avg_8', 'RTD_C_Avg_9', 'RTD_C_Avg_10']\n",
    "\n",
    "# Create a new column with the average of all RTD readings\n",
    "df_selected['RTD_C_Avg_Mean'] = df_selected[rtd_columns].mean(axis=1)\n",
    "\n",
    "# If you want to drop the original RTD columns:\n",
    "df_selected = df_selected.drop(columns=rtd_columns)\n",
    "\n",
    "# Assuming your dataframe is named df_selected and the timestamp column is 'TIMESTAMP'\n",
    "df_selected['TIMESTAMP'] = pd.to_datetime(df_selected['TIMESTAMP'])\n",
    "\n",
    "# Extract the minute component\n",
    "df_selected['Minutes_Since_Midnight'] = df_selected['TIMESTAMP'].dt.hour * 60 + df_selected['TIMESTAMP'].dt.minute\n",
    "\n",
    "df_selected = df_selected.drop(\"TIMESTAMP\", axis=1)"
   ]
  },
  {
   "cell_type": "markdown",
   "id": "20634923",
   "metadata": {},
   "source": [
    "#### Show Top 5 Records"
   ]
  },
  {
   "cell_type": "code",
   "execution_count": 41,
   "id": "e7e412a2",
   "metadata": {},
   "outputs": [
    {
     "data": {
      "text/html": [
       "<div>\n",
       "<style scoped>\n",
       "    .dataframe tbody tr th:only-of-type {\n",
       "        vertical-align: middle;\n",
       "    }\n",
       "\n",
       "    .dataframe tbody tr th {\n",
       "        vertical-align: top;\n",
       "    }\n",
       "\n",
       "    .dataframe thead th {\n",
       "        text-align: right;\n",
       "    }\n",
       "</style>\n",
       "<table border=\"1\" class=\"dataframe\">\n",
       "  <thead>\n",
       "    <tr style=\"text-align: right;\">\n",
       "      <th></th>\n",
       "      <th>AmbTemp_C_Avg</th>\n",
       "      <th>WindSpeedAve_ms</th>\n",
       "      <th>WindDirAve_deg</th>\n",
       "      <th>PwrMtrP_kW_Avg</th>\n",
       "      <th>RTD_C_Avg_Mean</th>\n",
       "      <th>Minutes_Since_Midnight</th>\n",
       "    </tr>\n",
       "  </thead>\n",
       "  <tbody>\n",
       "    <tr>\n",
       "      <th>0</th>\n",
       "      <td>6.851</td>\n",
       "      <td>1.325</td>\n",
       "      <td>212.2</td>\n",
       "      <td>0.0</td>\n",
       "      <td>6.0638</td>\n",
       "      <td>0</td>\n",
       "    </tr>\n",
       "    <tr>\n",
       "      <th>1</th>\n",
       "      <td>6.804</td>\n",
       "      <td>2.260</td>\n",
       "      <td>205.5</td>\n",
       "      <td>0.0</td>\n",
       "      <td>6.0546</td>\n",
       "      <td>1</td>\n",
       "    </tr>\n",
       "    <tr>\n",
       "      <th>2</th>\n",
       "      <td>6.751</td>\n",
       "      <td>2.162</td>\n",
       "      <td>213.2</td>\n",
       "      <td>0.0</td>\n",
       "      <td>6.0463</td>\n",
       "      <td>2</td>\n",
       "    </tr>\n",
       "    <tr>\n",
       "      <th>3</th>\n",
       "      <td>6.792</td>\n",
       "      <td>2.167</td>\n",
       "      <td>207.9</td>\n",
       "      <td>0.0</td>\n",
       "      <td>6.0335</td>\n",
       "      <td>3</td>\n",
       "    </tr>\n",
       "    <tr>\n",
       "      <th>4</th>\n",
       "      <td>6.768</td>\n",
       "      <td>2.368</td>\n",
       "      <td>216.0</td>\n",
       "      <td>0.0</td>\n",
       "      <td>6.0257</td>\n",
       "      <td>4</td>\n",
       "    </tr>\n",
       "  </tbody>\n",
       "</table>\n",
       "</div>"
      ],
      "text/plain": [
       "   AmbTemp_C_Avg  WindSpeedAve_ms  WindDirAve_deg  PwrMtrP_kW_Avg  \\\n",
       "0          6.851            1.325           212.2             0.0   \n",
       "1          6.804            2.260           205.5             0.0   \n",
       "2          6.751            2.162           213.2             0.0   \n",
       "3          6.792            2.167           207.9             0.0   \n",
       "4          6.768            2.368           216.0             0.0   \n",
       "\n",
       "   RTD_C_Avg_Mean  Minutes_Since_Midnight  \n",
       "0          6.0638                       0  \n",
       "1          6.0546                       1  \n",
       "2          6.0463                       2  \n",
       "3          6.0335                       3  \n",
       "4          6.0257                       4  "
      ]
     },
     "execution_count": 41,
     "metadata": {},
     "output_type": "execute_result"
    }
   ],
   "source": [
    "df_selected.head()"
   ]
  },
  {
   "cell_type": "code",
   "execution_count": 42,
   "id": "b38b1db8",
   "metadata": {},
   "outputs": [
    {
     "data": {
      "text/html": [
       "<div>\n",
       "<style scoped>\n",
       "    .dataframe tbody tr th:only-of-type {\n",
       "        vertical-align: middle;\n",
       "    }\n",
       "\n",
       "    .dataframe tbody tr th {\n",
       "        vertical-align: top;\n",
       "    }\n",
       "\n",
       "    .dataframe thead th {\n",
       "        text-align: right;\n",
       "    }\n",
       "</style>\n",
       "<table border=\"1\" class=\"dataframe\">\n",
       "  <thead>\n",
       "    <tr style=\"text-align: right;\">\n",
       "      <th></th>\n",
       "      <th>AmbTemp_C_Avg</th>\n",
       "      <th>WindSpeedAve_ms</th>\n",
       "      <th>WindDirAve_deg</th>\n",
       "      <th>PwrMtrP_kW_Avg</th>\n",
       "      <th>RTD_C_Avg_Mean</th>\n",
       "      <th>Minutes_Since_Midnight</th>\n",
       "    </tr>\n",
       "  </thead>\n",
       "  <tbody>\n",
       "    <tr>\n",
       "      <th>count</th>\n",
       "      <td>1440.000000</td>\n",
       "      <td>1440.000000</td>\n",
       "      <td>1440.000000</td>\n",
       "      <td>1440.000000</td>\n",
       "      <td>1440.000000</td>\n",
       "      <td>1440.000000</td>\n",
       "    </tr>\n",
       "    <tr>\n",
       "      <th>mean</th>\n",
       "      <td>6.612212</td>\n",
       "      <td>1.089711</td>\n",
       "      <td>192.287051</td>\n",
       "      <td>32.972390</td>\n",
       "      <td>7.976494</td>\n",
       "      <td>719.500000</td>\n",
       "    </tr>\n",
       "    <tr>\n",
       "      <th>std</th>\n",
       "      <td>2.349314</td>\n",
       "      <td>0.882370</td>\n",
       "      <td>110.112867</td>\n",
       "      <td>54.106284</td>\n",
       "      <td>7.448912</td>\n",
       "      <td>415.836506</td>\n",
       "    </tr>\n",
       "    <tr>\n",
       "      <th>min</th>\n",
       "      <td>2.536000</td>\n",
       "      <td>0.077000</td>\n",
       "      <td>0.000000</td>\n",
       "      <td>-0.577000</td>\n",
       "      <td>0.032000</td>\n",
       "      <td>0.000000</td>\n",
       "    </tr>\n",
       "    <tr>\n",
       "      <th>25%</th>\n",
       "      <td>4.738500</td>\n",
       "      <td>0.442000</td>\n",
       "      <td>93.800000</td>\n",
       "      <td>0.000000</td>\n",
       "      <td>2.365825</td>\n",
       "      <td>359.750000</td>\n",
       "    </tr>\n",
       "    <tr>\n",
       "      <th>50%</th>\n",
       "      <td>6.113500</td>\n",
       "      <td>0.818000</td>\n",
       "      <td>204.700000</td>\n",
       "      <td>0.000000</td>\n",
       "      <td>4.899800</td>\n",
       "      <td>719.500000</td>\n",
       "    </tr>\n",
       "    <tr>\n",
       "      <th>75%</th>\n",
       "      <td>8.500000</td>\n",
       "      <td>1.503500</td>\n",
       "      <td>294.900000</td>\n",
       "      <td>57.695000</td>\n",
       "      <td>13.400500</td>\n",
       "      <td>1079.250000</td>\n",
       "    </tr>\n",
       "    <tr>\n",
       "      <th>max</th>\n",
       "      <td>11.350000</td>\n",
       "      <td>7.207000</td>\n",
       "      <td>359.800000</td>\n",
       "      <td>206.100000</td>\n",
       "      <td>25.488000</td>\n",
       "      <td>1439.000000</td>\n",
       "    </tr>\n",
       "  </tbody>\n",
       "</table>\n",
       "</div>"
      ],
      "text/plain": [
       "       AmbTemp_C_Avg  WindSpeedAve_ms  WindDirAve_deg  PwrMtrP_kW_Avg  \\\n",
       "count    1440.000000      1440.000000     1440.000000     1440.000000   \n",
       "mean        6.612212         1.089711      192.287051       32.972390   \n",
       "std         2.349314         0.882370      110.112867       54.106284   \n",
       "min         2.536000         0.077000        0.000000       -0.577000   \n",
       "25%         4.738500         0.442000       93.800000        0.000000   \n",
       "50%         6.113500         0.818000      204.700000        0.000000   \n",
       "75%         8.500000         1.503500      294.900000       57.695000   \n",
       "max        11.350000         7.207000      359.800000      206.100000   \n",
       "\n",
       "       RTD_C_Avg_Mean  Minutes_Since_Midnight  \n",
       "count     1440.000000             1440.000000  \n",
       "mean         7.976494              719.500000  \n",
       "std          7.448912              415.836506  \n",
       "min          0.032000                0.000000  \n",
       "25%          2.365825              359.750000  \n",
       "50%          4.899800              719.500000  \n",
       "75%         13.400500             1079.250000  \n",
       "max         25.488000             1439.000000  "
      ]
     },
     "execution_count": 42,
     "metadata": {},
     "output_type": "execute_result"
    }
   ],
   "source": [
    "df_selected.describe()"
   ]
  },
  {
   "cell_type": "markdown",
   "id": "fbd32281",
   "metadata": {},
   "source": [
    "#### Preparing X and Y variables"
   ]
  },
  {
   "cell_type": "code",
   "execution_count": 43,
   "id": "56d72fde",
   "metadata": {},
   "outputs": [],
   "source": [
    "X = df_selected.drop(columns=['PwrMtrP_kW_Avg'],axis=1)"
   ]
  },
  {
   "cell_type": "code",
   "execution_count": 44,
   "id": "cd613177",
   "metadata": {},
   "outputs": [
    {
     "data": {
      "text/html": [
       "<div>\n",
       "<style scoped>\n",
       "    .dataframe tbody tr th:only-of-type {\n",
       "        vertical-align: middle;\n",
       "    }\n",
       "\n",
       "    .dataframe tbody tr th {\n",
       "        vertical-align: top;\n",
       "    }\n",
       "\n",
       "    .dataframe thead th {\n",
       "        text-align: right;\n",
       "    }\n",
       "</style>\n",
       "<table border=\"1\" class=\"dataframe\">\n",
       "  <thead>\n",
       "    <tr style=\"text-align: right;\">\n",
       "      <th></th>\n",
       "      <th>AmbTemp_C_Avg</th>\n",
       "      <th>WindSpeedAve_ms</th>\n",
       "      <th>WindDirAve_deg</th>\n",
       "      <th>RTD_C_Avg_Mean</th>\n",
       "      <th>Minutes_Since_Midnight</th>\n",
       "    </tr>\n",
       "  </thead>\n",
       "  <tbody>\n",
       "    <tr>\n",
       "      <th>0</th>\n",
       "      <td>6.851</td>\n",
       "      <td>1.325</td>\n",
       "      <td>212.2</td>\n",
       "      <td>6.0638</td>\n",
       "      <td>0</td>\n",
       "    </tr>\n",
       "    <tr>\n",
       "      <th>1</th>\n",
       "      <td>6.804</td>\n",
       "      <td>2.260</td>\n",
       "      <td>205.5</td>\n",
       "      <td>6.0546</td>\n",
       "      <td>1</td>\n",
       "    </tr>\n",
       "    <tr>\n",
       "      <th>2</th>\n",
       "      <td>6.751</td>\n",
       "      <td>2.162</td>\n",
       "      <td>213.2</td>\n",
       "      <td>6.0463</td>\n",
       "      <td>2</td>\n",
       "    </tr>\n",
       "    <tr>\n",
       "      <th>3</th>\n",
       "      <td>6.792</td>\n",
       "      <td>2.167</td>\n",
       "      <td>207.9</td>\n",
       "      <td>6.0335</td>\n",
       "      <td>3</td>\n",
       "    </tr>\n",
       "    <tr>\n",
       "      <th>4</th>\n",
       "      <td>6.768</td>\n",
       "      <td>2.368</td>\n",
       "      <td>216.0</td>\n",
       "      <td>6.0257</td>\n",
       "      <td>4</td>\n",
       "    </tr>\n",
       "  </tbody>\n",
       "</table>\n",
       "</div>"
      ],
      "text/plain": [
       "   AmbTemp_C_Avg  WindSpeedAve_ms  WindDirAve_deg  RTD_C_Avg_Mean  \\\n",
       "0          6.851            1.325           212.2          6.0638   \n",
       "1          6.804            2.260           205.5          6.0546   \n",
       "2          6.751            2.162           213.2          6.0463   \n",
       "3          6.792            2.167           207.9          6.0335   \n",
       "4          6.768            2.368           216.0          6.0257   \n",
       "\n",
       "   Minutes_Since_Midnight  \n",
       "0                       0  \n",
       "1                       1  \n",
       "2                       2  \n",
       "3                       3  \n",
       "4                       4  "
      ]
     },
     "execution_count": 44,
     "metadata": {},
     "output_type": "execute_result"
    }
   ],
   "source": [
    "X.head()"
   ]
  },
  {
   "cell_type": "code",
   "execution_count": 45,
   "id": "924b7f9d",
   "metadata": {},
   "outputs": [],
   "source": [
    "y = df['PwrMtrP_kW_Avg']"
   ]
  },
  {
   "cell_type": "code",
   "execution_count": 46,
   "id": "ffc69816",
   "metadata": {},
   "outputs": [
    {
     "data": {
      "text/plain": [
       "480     10.39\n",
       "481     11.39\n",
       "482     11.57\n",
       "483     11.33\n",
       "484     11.91\n",
       "        ...  \n",
       "715    165.80\n",
       "716    161.70\n",
       "717    134.80\n",
       "718    156.30\n",
       "719    167.90\n",
       "Name: PwrMtrP_kW_Avg, Length: 240, dtype: float64"
      ]
     },
     "execution_count": 46,
     "metadata": {},
     "output_type": "execute_result"
    }
   ],
   "source": [
    "y[480:720]"
   ]
  },
  {
   "cell_type": "code",
   "execution_count": 47,
   "id": "1e290fe3",
   "metadata": {},
   "outputs": [],
   "source": [
    "# Create Column Transformer with 3 types of transformers\n",
    "num_features = X.select_dtypes(exclude=\"object\").columns\n",
    "\n",
    "from sklearn.preprocessing import StandardScaler\n",
    "from sklearn.compose import ColumnTransformer\n",
    "\n",
    "numeric_transformer = StandardScaler()\n",
    "\n",
    "preprocessor = ColumnTransformer(\n",
    "    [\n",
    "        (\"StandardScaler\", numeric_transformer, num_features),        \n",
    "    ]\n",
    ")"
   ]
  },
  {
   "cell_type": "code",
   "execution_count": 48,
   "id": "9c68f99a",
   "metadata": {},
   "outputs": [],
   "source": [
    "X = preprocessor.fit_transform(X)"
   ]
  },
  {
   "cell_type": "code",
   "execution_count": 49,
   "id": "72459f1d",
   "metadata": {},
   "outputs": [
    {
     "data": {
      "text/plain": [
       "(1440, 5)"
      ]
     },
     "execution_count": 49,
     "metadata": {},
     "output_type": "execute_result"
    }
   ],
   "source": [
    "X.shape"
   ]
  },
  {
   "cell_type": "code",
   "execution_count": 50,
   "id": "ed5c4e99",
   "metadata": {},
   "outputs": [
    {
     "data": {
      "text/plain": [
       "((1152, 5), (288, 5))"
      ]
     },
     "execution_count": 50,
     "metadata": {},
     "output_type": "execute_result"
    }
   ],
   "source": [
    "# separate dataset into train and test\n",
    "from sklearn.model_selection import train_test_split\n",
    "X_train, X_test, y_train, y_test = train_test_split(X,y,test_size=0.2,random_state=42)\n",
    "X_train.shape, X_test.shape"
   ]
  },
  {
   "cell_type": "markdown",
   "id": "4cd80317",
   "metadata": {},
   "source": [
    "#### Create an Evaluate Function to give all metrics after model Training"
   ]
  },
  {
   "cell_type": "code",
   "execution_count": 51,
   "id": "8c247bd0",
   "metadata": {},
   "outputs": [],
   "source": [
    "def evaluate_model(true, predicted):\n",
    "    mae = mean_absolute_error(true, predicted)\n",
    "    mse = mean_squared_error(true, predicted)\n",
    "    rmse = np.sqrt(mean_squared_error(true, predicted))\n",
    "    r2_square = r2_score(true, predicted)\n",
    "    return mae, rmse, r2_square"
   ]
  },
  {
   "cell_type": "code",
   "execution_count": 52,
   "id": "79ccb8e7",
   "metadata": {
    "scrolled": false
   },
   "outputs": [
    {
     "name": "stdout",
     "output_type": "stream",
     "text": [
      "Linear Regression\n",
      "Model performance for Training set\n",
      "- Root Mean Squared Error: 15.1974\n",
      "- Mean Absolute Error: 12.6542\n",
      "- R2 Score: 0.9215\n",
      "----------------------------------\n",
      "Model performance for Test set\n",
      "- Root Mean Squared Error: 15.0890\n",
      "- Mean Absolute Error: 12.7153\n",
      "- R2 Score: 0.9204\n",
      "===================================\n",
      "\n",
      "\n",
      "Lasso\n",
      "Model performance for Training set\n",
      "- Root Mean Squared Error: 15.9147\n",
      "- Mean Absolute Error: 12.5654\n",
      "- R2 Score: 0.9139\n",
      "----------------------------------\n",
      "Model performance for Test set\n",
      "- Root Mean Squared Error: 16.1745\n",
      "- Mean Absolute Error: 13.0500\n",
      "- R2 Score: 0.9086\n",
      "===================================\n",
      "\n",
      "\n",
      "Ridge\n",
      "Model performance for Training set\n",
      "- Root Mean Squared Error: 15.1987\n",
      "- Mean Absolute Error: 12.6341\n",
      "- R2 Score: 0.9214\n",
      "----------------------------------\n",
      "Model performance for Test set\n",
      "- Root Mean Squared Error: 15.0996\n",
      "- Mean Absolute Error: 12.7139\n",
      "- R2 Score: 0.9203\n",
      "===================================\n",
      "\n",
      "\n",
      "K-Neighbors Regressor\n",
      "Model performance for Training set\n",
      "- Root Mean Squared Error: 9.1333\n",
      "- Mean Absolute Error: 3.8949\n",
      "- R2 Score: 0.9716\n",
      "----------------------------------\n",
      "Model performance for Test set\n",
      "- Root Mean Squared Error: 12.3580\n",
      "- Mean Absolute Error: 5.5347\n",
      "- R2 Score: 0.9466\n",
      "===================================\n",
      "\n",
      "\n",
      "Decision Tree\n",
      "Model performance for Training set\n",
      "- Root Mean Squared Error: 0.0000\n",
      "- Mean Absolute Error: 0.0000\n",
      "- R2 Score: 1.0000\n",
      "----------------------------------\n",
      "Model performance for Test set\n",
      "- Root Mean Squared Error: 10.6710\n",
      "- Mean Absolute Error: 4.4806\n",
      "- R2 Score: 0.9602\n",
      "===================================\n",
      "\n",
      "\n",
      "Random Forest Regressor\n",
      "Model performance for Training set\n",
      "- Root Mean Squared Error: 3.2245\n",
      "- Mean Absolute Error: 1.2926\n",
      "- R2 Score: 0.9965\n",
      "----------------------------------\n",
      "Model performance for Test set\n",
      "- Root Mean Squared Error: 8.6229\n",
      "- Mean Absolute Error: 3.5128\n",
      "- R2 Score: 0.9740\n",
      "===================================\n",
      "\n",
      "\n",
      "XGBRegressor\n",
      "Model performance for Training set\n",
      "- Root Mean Squared Error: 0.1987\n",
      "- Mean Absolute Error: 0.1027\n",
      "- R2 Score: 1.0000\n",
      "----------------------------------\n",
      "Model performance for Test set\n",
      "- Root Mean Squared Error: 9.9557\n",
      "- Mean Absolute Error: 4.1575\n",
      "- R2 Score: 0.9654\n",
      "===================================\n",
      "\n",
      "\n",
      "CatBoosting Regressor\n",
      "Model performance for Training set\n",
      "- Root Mean Squared Error: 2.3955\n",
      "- Mean Absolute Error: 1.2320\n",
      "- R2 Score: 0.9980\n",
      "----------------------------------\n",
      "Model performance for Test set\n",
      "- Root Mean Squared Error: 9.8887\n",
      "- Mean Absolute Error: 4.0997\n",
      "- R2 Score: 0.9658\n",
      "===================================\n",
      "\n",
      "\n",
      "AdaBoost Regressor\n",
      "Model performance for Training set\n",
      "- Root Mean Squared Error: 10.7772\n",
      "- Mean Absolute Error: 8.8324\n",
      "- R2 Score: 0.9605\n",
      "----------------------------------\n",
      "Model performance for Test set\n",
      "- Root Mean Squared Error: 11.3248\n",
      "- Mean Absolute Error: 8.9247\n",
      "- R2 Score: 0.9552\n",
      "===================================\n",
      "\n",
      "\n"
     ]
    }
   ],
   "source": [
    "models = {\n",
    "    \"Linear Regression\": LinearRegression(),\n",
    "    \"Lasso\": Lasso(),\n",
    "    \"Ridge\": Ridge(),\n",
    "    \"K-Neighbors Regressor\": KNeighborsRegressor(),\n",
    "    \"Decision Tree\": DecisionTreeRegressor(),\n",
    "    \"Random Forest Regressor\": RandomForestRegressor(),\n",
    "    \"XGBRegressor\": XGBRegressor(), \n",
    "    \"CatBoosting Regressor\": CatBoostRegressor(verbose=False),\n",
    "    \"AdaBoost Regressor\": AdaBoostRegressor()\n",
    "}\n",
    "model_list = []\n",
    "r2_list =[]\n",
    "\n",
    "for i in range(len(list(models))):\n",
    "    model = list(models.values())[i]\n",
    "    model.fit(X_train, y_train) # Train model\n",
    "\n",
    "    # Make predictions\n",
    "    y_train_pred = model.predict(X_train)\n",
    "    y_test_pred = model.predict(X_test)\n",
    "    \n",
    "    # Evaluate Train and Test dataset\n",
    "    model_train_mae , model_train_rmse, model_train_r2 = evaluate_model(y_train, y_train_pred)\n",
    "\n",
    "    model_test_mae , model_test_rmse, model_test_r2 = evaluate_model(y_test, y_test_pred)\n",
    "\n",
    "    \n",
    "    print(list(models.keys())[i])\n",
    "    model_list.append(list(models.keys())[i])\n",
    "    \n",
    "    print('Model performance for Training set')\n",
    "    print(\"- Root Mean Squared Error: {:.4f}\".format(model_train_rmse))\n",
    "    print(\"- Mean Absolute Error: {:.4f}\".format(model_train_mae))\n",
    "    print(\"- R2 Score: {:.4f}\".format(model_train_r2))\n",
    "\n",
    "    print('----------------------------------')\n",
    "    \n",
    "    print('Model performance for Test set')\n",
    "    print(\"- Root Mean Squared Error: {:.4f}\".format(model_test_rmse))\n",
    "    print(\"- Mean Absolute Error: {:.4f}\".format(model_test_mae))\n",
    "    print(\"- R2 Score: {:.4f}\".format(model_test_r2))\n",
    "    r2_list.append(model_test_r2)\n",
    "    \n",
    "    print('='*35)\n",
    "    print('\\n')"
   ]
  },
  {
   "cell_type": "markdown",
   "id": "06480b5a",
   "metadata": {},
   "source": [
    "### Results"
   ]
  },
  {
   "cell_type": "code",
   "execution_count": 53,
   "id": "e0159e5f",
   "metadata": {},
   "outputs": [
    {
     "data": {
      "text/html": [
       "<div>\n",
       "<style scoped>\n",
       "    .dataframe tbody tr th:only-of-type {\n",
       "        vertical-align: middle;\n",
       "    }\n",
       "\n",
       "    .dataframe tbody tr th {\n",
       "        vertical-align: top;\n",
       "    }\n",
       "\n",
       "    .dataframe thead th {\n",
       "        text-align: right;\n",
       "    }\n",
       "</style>\n",
       "<table border=\"1\" class=\"dataframe\">\n",
       "  <thead>\n",
       "    <tr style=\"text-align: right;\">\n",
       "      <th></th>\n",
       "      <th>Model Name</th>\n",
       "      <th>R2_Score</th>\n",
       "    </tr>\n",
       "  </thead>\n",
       "  <tbody>\n",
       "    <tr>\n",
       "      <th>5</th>\n",
       "      <td>Random Forest Regressor</td>\n",
       "      <td>0.974015</td>\n",
       "    </tr>\n",
       "    <tr>\n",
       "      <th>7</th>\n",
       "      <td>CatBoosting Regressor</td>\n",
       "      <td>0.965826</td>\n",
       "    </tr>\n",
       "    <tr>\n",
       "      <th>6</th>\n",
       "      <td>XGBRegressor</td>\n",
       "      <td>0.965362</td>\n",
       "    </tr>\n",
       "    <tr>\n",
       "      <th>4</th>\n",
       "      <td>Decision Tree</td>\n",
       "      <td>0.960205</td>\n",
       "    </tr>\n",
       "    <tr>\n",
       "      <th>8</th>\n",
       "      <td>AdaBoost Regressor</td>\n",
       "      <td>0.955179</td>\n",
       "    </tr>\n",
       "    <tr>\n",
       "      <th>3</th>\n",
       "      <td>K-Neighbors Regressor</td>\n",
       "      <td>0.946628</td>\n",
       "    </tr>\n",
       "    <tr>\n",
       "      <th>0</th>\n",
       "      <td>Linear Regression</td>\n",
       "      <td>0.920431</td>\n",
       "    </tr>\n",
       "    <tr>\n",
       "      <th>2</th>\n",
       "      <td>Ridge</td>\n",
       "      <td>0.920320</td>\n",
       "    </tr>\n",
       "    <tr>\n",
       "      <th>1</th>\n",
       "      <td>Lasso</td>\n",
       "      <td>0.908571</td>\n",
       "    </tr>\n",
       "  </tbody>\n",
       "</table>\n",
       "</div>"
      ],
      "text/plain": [
       "                Model Name  R2_Score\n",
       "5  Random Forest Regressor  0.974015\n",
       "7    CatBoosting Regressor  0.965826\n",
       "6             XGBRegressor  0.965362\n",
       "4            Decision Tree  0.960205\n",
       "8       AdaBoost Regressor  0.955179\n",
       "3    K-Neighbors Regressor  0.946628\n",
       "0        Linear Regression  0.920431\n",
       "2                    Ridge  0.920320\n",
       "1                    Lasso  0.908571"
      ]
     },
     "execution_count": 53,
     "metadata": {},
     "output_type": "execute_result"
    }
   ],
   "source": [
    "pd.DataFrame(list(zip(model_list, r2_list)), columns=['Model Name', 'R2_Score']).sort_values(by=[\"R2_Score\"],ascending=False)"
   ]
  },
  {
   "cell_type": "markdown",
   "id": "357a7c1c",
   "metadata": {},
   "source": [
    "## Random Forest Regressor"
   ]
  },
  {
   "cell_type": "code",
   "execution_count": 54,
   "id": "9a6ad559",
   "metadata": {},
   "outputs": [
    {
     "name": "stdout",
     "output_type": "stream",
     "text": [
      " Accuracy of the model is 97.39\n"
     ]
    }
   ],
   "source": [
    "rf_model = RandomForestRegressor()\n",
    "rf_model = rf_model.fit(X_train, y_train)\n",
    "y_pred = rf_model.predict(X_test)\n",
    "score = r2_score(y_test, y_pred)*100\n",
    "print(\" Accuracy of the model is %.2f\" %score)"
   ]
  },
  {
   "cell_type": "markdown",
   "id": "1d31453e",
   "metadata": {},
   "source": [
    "## Plot y_pred and y_test"
   ]
  },
  {
   "cell_type": "code",
   "execution_count": 56,
   "id": "eb557b0a",
   "metadata": {},
   "outputs": [
    {
     "data": {
      "image/png": "[encoded data removed]",
      "text/plain": [
       "<Figure size 640x480 with 1 Axes>"
      ]
     },
     "metadata": {},
     "output_type": "display_data"
    }
   ],
   "source": [
    "plt.scatter(y_test,y_pred);\n",
    "plt.xlabel('Actual');\n",
    "plt.ylabel('Predicted');"
   ]
  },
  {
   "cell_type": "code",
   "execution_count": 31,
   "id": "1e707ec3",
   "metadata": {},
   "outputs": [
    {
     "data": {
      "image/png": "[encoded data removed]",
      "text/plain": [
       "<Figure size 640x480 with 1 Axes>"
      ]
     },
     "metadata": {},
     "output_type": "display_data"
    }
   ],
   "source": [
    "sns.regplot(x=y_test,y=y_pred,ci=None,color ='blue');"
   ]
  },
  {
   "cell_type": "markdown",
   "id": "79c2fe28",
   "metadata": {},
   "source": [
    "#### Difference between Actual and Predicted Values"
   ]
  },
  {
   "cell_type": "code",
   "execution_count": 57,
   "id": "7c9a8b48",
   "metadata": {},
   "outputs": [
    {
     "data": {
      "text/html": [
       "<div>\n",
       "<style scoped>\n",
       "    .dataframe tbody tr th:only-of-type {\n",
       "        vertical-align: middle;\n",
       "    }\n",
       "\n",
       "    .dataframe tbody tr th {\n",
       "        vertical-align: top;\n",
       "    }\n",
       "\n",
       "    .dataframe thead th {\n",
       "        text-align: right;\n",
       "    }\n",
       "</style>\n",
       "<table border=\"1\" class=\"dataframe\">\n",
       "  <thead>\n",
       "    <tr style=\"text-align: right;\">\n",
       "      <th></th>\n",
       "      <th>Actual Value</th>\n",
       "      <th>Predicted Value</th>\n",
       "      <th>Difference</th>\n",
       "    </tr>\n",
       "  </thead>\n",
       "  <tbody>\n",
       "    <tr>\n",
       "      <th>0</th>\n",
       "      <td>0.00</td>\n",
       "      <td>0.0000</td>\n",
       "      <td>0.0000</td>\n",
       "    </tr>\n",
       "    <tr>\n",
       "      <th>1</th>\n",
       "      <td>54.01</td>\n",
       "      <td>59.7567</td>\n",
       "      <td>-5.7467</td>\n",
       "    </tr>\n",
       "    <tr>\n",
       "      <th>2</th>\n",
       "      <td>40.19</td>\n",
       "      <td>39.8991</td>\n",
       "      <td>0.2909</td>\n",
       "    </tr>\n",
       "    <tr>\n",
       "      <th>3</th>\n",
       "      <td>0.00</td>\n",
       "      <td>0.0000</td>\n",
       "      <td>0.0000</td>\n",
       "    </tr>\n",
       "    <tr>\n",
       "      <th>4</th>\n",
       "      <td>76.70</td>\n",
       "      <td>85.0366</td>\n",
       "      <td>-8.3366</td>\n",
       "    </tr>\n",
       "    <tr>\n",
       "      <th>...</th>\n",
       "      <td>...</td>\n",
       "      <td>...</td>\n",
       "      <td>...</td>\n",
       "    </tr>\n",
       "    <tr>\n",
       "      <th>283</th>\n",
       "      <td>0.00</td>\n",
       "      <td>0.0000</td>\n",
       "      <td>0.0000</td>\n",
       "    </tr>\n",
       "    <tr>\n",
       "      <th>284</th>\n",
       "      <td>0.00</td>\n",
       "      <td>0.0000</td>\n",
       "      <td>0.0000</td>\n",
       "    </tr>\n",
       "    <tr>\n",
       "      <th>285</th>\n",
       "      <td>0.00</td>\n",
       "      <td>0.0000</td>\n",
       "      <td>0.0000</td>\n",
       "    </tr>\n",
       "    <tr>\n",
       "      <th>286</th>\n",
       "      <td>19.80</td>\n",
       "      <td>18.6471</td>\n",
       "      <td>1.1529</td>\n",
       "    </tr>\n",
       "    <tr>\n",
       "      <th>287</th>\n",
       "      <td>0.00</td>\n",
       "      <td>0.0000</td>\n",
       "      <td>0.0000</td>\n",
       "    </tr>\n",
       "  </tbody>\n",
       "</table>\n",
       "<p>288 rows × 3 columns</p>\n",
       "</div>"
      ],
      "text/plain": [
       "     Actual Value  Predicted Value  Difference\n",
       "0            0.00           0.0000      0.0000\n",
       "1           54.01          59.7567     -5.7467\n",
       "2           40.19          39.8991      0.2909\n",
       "3            0.00           0.0000      0.0000\n",
       "4           76.70          85.0366     -8.3366\n",
       "..            ...              ...         ...\n",
       "283          0.00           0.0000      0.0000\n",
       "284          0.00           0.0000      0.0000\n",
       "285          0.00           0.0000      0.0000\n",
       "286         19.80          18.6471      1.1529\n",
       "287          0.00           0.0000      0.0000\n",
       "\n",
       "[288 rows x 3 columns]"
      ]
     },
     "execution_count": 57,
     "metadata": {},
     "output_type": "execute_result"
    }
   ],
   "source": [
    "pred_df=pd.DataFrame({'Actual Value':y_test,'Predicted Value':y_pred,'Difference':y_test-y_pred})\n",
    "pred_df = pred_df.reset_index(drop=True)\n",
    "pred_df"
   ]
  }
 ],
 "metadata": {
  "kernelspec": {
   "display_name": "Python 3 (ipykernel)",
   "language": "python",
   "name": "python3"
  },
  "language_info": {
   "codemirror_mode": {
    "name": "ipython",
    "version": 3
   },
   "file_extension": ".py",
   "mimetype": "text/x-python",
   "name": "python",
   "nbconvert_exporter": "python",
   "pygments_lexer": "ipython3",
   "version": "3.8.19"
  }
 },
 "nbformat": 4,
 "nbformat_minor": 5
}
